{
 "cells": [
  {
   "cell_type": "code",
   "execution_count": 1,
   "metadata": {},
   "outputs": [
    {
     "data": {
      "text/plain": [
       "'d:\\\\Machine_Learning\\\\Titanic_Pipeline_Project\\\\research'"
      ]
     },
     "execution_count": 1,
     "metadata": {},
     "output_type": "execute_result"
    }
   ],
   "source": [
    "import os\n",
    "%pwd"
   ]
  },
  {
   "cell_type": "code",
   "execution_count": 2,
   "metadata": {},
   "outputs": [],
   "source": [
    "os.chdir(\"../\")"
   ]
  },
  {
   "cell_type": "code",
   "execution_count": 3,
   "metadata": {},
   "outputs": [
    {
     "data": {
      "text/plain": [
       "'d:\\\\Machine_Learning\\\\Titanic_Pipeline_Project'"
      ]
     },
     "execution_count": 3,
     "metadata": {},
     "output_type": "execute_result"
    }
   ],
   "source": [
    "%pwd"
   ]
  },
  {
   "cell_type": "code",
   "execution_count": 4,
   "metadata": {},
   "outputs": [],
   "source": [
    "from dataclasses import dataclass\n",
    "from pathlib import Path\n",
    "\n",
    "@dataclass(frozen=True)\n",
    "class DataTransformationConfig:\n",
    "    root_dir: Path\n",
    "    data_path: Path"
   ]
  },
  {
   "cell_type": "code",
   "execution_count": 5,
   "metadata": {},
   "outputs": [],
   "source": [
    "from titanic.constants import *\n",
    "from titanic.utils.common import read_yaml, create_directories"
   ]
  },
  {
   "cell_type": "code",
   "execution_count": 9,
   "metadata": {},
   "outputs": [],
   "source": [
    "class ConfigurationManager:\n",
    "    def __init__(\n",
    "            self,\n",
    "            config_file_path = CONFIG_FILE_PATH,\n",
    "            params_file_path = PARAMS_FILE_PATH\n",
    "            ):\n",
    "        self.config = read_yaml(config_file_path)\n",
    "        self.params = read_yaml(params_file_path)\n",
    "\n",
    "        create_directories([self.config.artifacts_root])\n",
    "    \n",
    "    def get_data_transformation_config(self) -> DataTransformationConfig:\n",
    "        config = self.config.data_transformation\n",
    "\n",
    "        create_directories([config.root_dir])\n",
    "\n",
    "        data_transformation_config = DataTransformationConfig(\n",
    "            root_dir= config.root_dir,\n",
    "            data_path= config.data_path,\n",
    "        )\n",
    "        return data_transformation_config"
   ]
  },
  {
   "cell_type": "code",
   "execution_count": 11,
   "metadata": {},
   "outputs": [],
   "source": [
    "import pandas as pd\n",
    "import numpy as np\n",
    "from titanic.logging import logger\n",
    "class DataTransformation:\n",
    "    def __init__(self, config: DataTransformationConfig):\n",
    "        self.config = config\n",
    "    \n",
    "    def load_dataframe(self):\n",
    "        df = pd.read_csv(os.path.join(self.config.data_path, \"Titanic-Dataset.csv\"))\n",
    "        logger.info(f\"Loaded {df.shape[0]} rows of data\")\n",
    "        return df\n",
    "\n",
    "    def transform_data(self):\n",
    "        df = self.load_dataframe()\n",
    "\n",
    "        df = df.drop(columns=[\"PassengerId\", \"Name\", \"Ticket\", \"Fare\", \"Cabin\"], axis=1)\n",
    "        \n",
    "        df[\"Sex\"] = df[\"Sex\"].map({\"male\": 0, \"female\": 1})\n",
    "        \n",
    "        df = df.dropna(subset=[\"Embarked\"])\n",
    "\n",
    "        df['Age'] = df['Age'].fillna(value=int(df['Age'].mean()))\n",
    "\n",
    "        df[\"Embarked\"] = df[\"Embarked\"].map({\"S\": 0, \"C\": 1, \"Q\": 2})\n",
    "\n",
    "        logger.info(f\"Transformed {df.shape[0]} rows of data\")\n",
    "\n",
    "        return df\n",
    "    \n",
    "    def save_transformed_data(self):\n",
    "        df = self.transform_data()\n",
    "        df.to_csv(os.path.join(self.config.root_dir, \"transformed_data.csv\"), index=False)\n",
    "        logger.info(f\"Saved transformed data to {os.path.join(self.config.data_path, 'transformed_data.csv')}\")"
   ]
  },
  {
   "cell_type": "code",
   "execution_count": 14,
   "metadata": {},
   "outputs": [
    {
     "name": "stdout",
     "output_type": "stream",
     "text": [
      "[2023-12-29 15:33:15,225: INFO: common: yaml file config\\config.yaml loaded successfully]\n",
      "[2023-12-29 15:33:15,231: INFO: common: yaml file params.yaml loaded successfully]\n",
      "[2023-12-29 15:33:15,234: INFO: common: created directory at: artifacts]\n",
      "[2023-12-29 15:33:15,239: INFO: common: created directory at: artifacts/data_transformation]\n",
      "[2023-12-29 15:33:15,257: INFO: 809541087: Loaded 891 rows of data]\n",
      "[2023-12-29 15:33:15,265: INFO: 809541087: Transformed 889 rows of data]\n",
      "[2023-12-29 15:33:15,275: INFO: 809541087: Saved transformed data to artifacts/data_ingestion\\transformed_data.csv]\n"
     ]
    }
   ],
   "source": [
    "try:\n",
    "    config = ConfigurationManager()\n",
    "    data_tranformation_config = config.get_data_transformation_config()\n",
    "    data_transformation = DataTransformation(data_tranformation_config)\n",
    "    data_transformation.save_transformed_data()\n",
    "    \n",
    "except Exception as e:\n",
    "    raise e"
   ]
  },
  {
   "cell_type": "code",
   "execution_count": null,
   "metadata": {},
   "outputs": [],
   "source": []
  }
 ],
 "metadata": {
  "kernelspec": {
   "display_name": "titanic",
   "language": "python",
   "name": "python3"
  },
  "language_info": {
   "codemirror_mode": {
    "name": "ipython",
    "version": 3
   },
   "file_extension": ".py",
   "mimetype": "text/x-python",
   "name": "python",
   "nbconvert_exporter": "python",
   "pygments_lexer": "ipython3",
   "version": "3.9.0"
  }
 },
 "nbformat": 4,
 "nbformat_minor": 2
}
