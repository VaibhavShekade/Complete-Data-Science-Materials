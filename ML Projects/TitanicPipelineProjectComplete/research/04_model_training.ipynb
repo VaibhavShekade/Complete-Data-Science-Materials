{
 "cells": [
  {
   "cell_type": "code",
   "execution_count": 1,
   "metadata": {},
   "outputs": [
    {
     "data": {
      "text/plain": [
       "'d:\\\\Machine_Learning\\\\Titanic_Pipeline_Project\\\\research'"
      ]
     },
     "execution_count": 1,
     "metadata": {},
     "output_type": "execute_result"
    }
   ],
   "source": [
    "import os\n",
    "%pwd"
   ]
  },
  {
   "cell_type": "code",
   "execution_count": 2,
   "metadata": {},
   "outputs": [
    {
     "data": {
      "text/plain": [
       "'d:\\\\Machine_Learning\\\\Titanic_Pipeline_Project'"
      ]
     },
     "execution_count": 2,
     "metadata": {},
     "output_type": "execute_result"
    }
   ],
   "source": [
    "os.chdir(\"../\")\n",
    "%pwd"
   ]
  },
  {
   "cell_type": "code",
   "execution_count": 3,
   "metadata": {},
   "outputs": [],
   "source": [
    "from dataclasses import dataclass\n",
    "from pathlib import Path\n",
    "\n",
    "@dataclass(frozen=True)\n",
    "class ModelTrainerConfig:\n",
    "    root_dir:Path\n",
    "    data_path:Path"
   ]
  },
  {
   "cell_type": "code",
   "execution_count": 4,
   "metadata": {},
   "outputs": [],
   "source": [
    "from titanic.constants import *\n",
    "from titanic.utils.common import read_yaml, create_directories"
   ]
  },
  {
   "cell_type": "code",
   "execution_count": 5,
   "metadata": {},
   "outputs": [],
   "source": [
    "class ConfigurationManager:\n",
    "    def __init__(\n",
    "            self,\n",
    "            config_file_path = CONFIG_FILE_PATH,\n",
    "            params_file_path = PARAMS_FILE_PATH\n",
    "            ):\n",
    "        self.config = read_yaml(config_file_path)\n",
    "        self.params = read_yaml(params_file_path)\n",
    "\n",
    "        create_directories([self.config.artifacts_root])\n",
    "    \n",
    "    def get_model_trainer_config(self) -> ModelTrainerConfig:\n",
    "        config = self.config.model_trainer \n",
    "\n",
    "        create_directories([config.root_dir])\n",
    "\n",
    "        model_trainer_config = ModelTrainerConfig(\n",
    "            root_dir= config.root_dir,\n",
    "            data_path= config.data_path\n",
    "        )\n",
    "\n",
    "        return model_trainer_config\n"
   ]
  },
  {
   "cell_type": "code",
   "execution_count": 6,
   "metadata": {},
   "outputs": [],
   "source": [
    "from sklearn.metrics import accuracy_score\n",
    "from titanic.logging import logger\n",
    "import pandas as pd\n",
    "\n",
    "from sklearn.tree import DecisionTreeClassifier\n",
    "from catboost import CatBoostClassifier\n",
    "from sklearn.ensemble import (\n",
    "    AdaBoostClassifier,\n",
    "    GradientBoostingClassifier,\n",
    "    RandomForestClassifier,\n",
    ")\n",
    "# from xgboost import XGBClassifier\n",
    "from sklearn.neighbors import KNeighborsClassifier\n",
    "\n",
    "from sklearn.preprocessing import StandardScaler\n",
    "# from sklearn.tree import train_test_split\n",
    "\n",
    "from sklearn.model_selection import train_test_split\n",
    "\n",
    "from titanic.utils.common import save_object\n",
    "\n",
    "class ModelTrainer:\n",
    "    def __init__(self, config:ModelTrainerConfig):\n",
    "        self.config = config\n",
    "\n",
    "    def fetch_transformed_data(self):\n",
    "        df = pd.read_csv(self.config.data_path)\n",
    "        logger.info(\"Data has been fetched successfully\")\n",
    "        return df\n",
    "    \n",
    "    def scaling_data(self):\n",
    "        df = self.fetch_transformed_data()\n",
    "\n",
    "        x = df.drop(columns='Survived', axis=1)\n",
    "        y = df['Survived']\n",
    "\n",
    "        sd = StandardScaler()\n",
    "        x = sd.fit_transform(x)\n",
    "\n",
    "\n",
    "        logger.info(\"Data has been scaled successfully\")\n",
    "        return x,y\n",
    "\n",
    "    def initiate_model_training(self):\n",
    "        x, y = self.scaling_data()\n",
    "\n",
    "        models = {\n",
    "                \"Random Forest\": RandomForestClassifier(),\n",
    "                \"Decision Tree\": DecisionTreeClassifier(),\n",
    "                \"Gradient Boosting\": GradientBoostingClassifier(),\n",
    "                \"K-Neighbors Regressor\": KNeighborsClassifier(),\n",
    "                \"CatBoosting Regressor\": CatBoostClassifier(verbose=False),\n",
    "                \"AdaBoost Regressor\": AdaBoostClassifier()\n",
    "                # \"XGBRegressor\": XGBClassifier(),\n",
    "                # \"Linear Regression\": LinearRegression(),\n",
    "            }\n",
    "        # For Hyper Parameter tuning \n",
    "        # model_report:dict = evaluate_models(x_train = x_train, y_train = y_train,x_test=x_test, y_test=y_test, models=models, param = params)\n",
    "        accuracy_dict = {}\n",
    "        for model_name, model in models.items():\n",
    "            model.fit(x, y)\n",
    "            logger.info(f\"Model {model_name} has been trained successfully\")\n",
    "            y_pred = model.predict(x)\n",
    "            accuracy = accuracy_score(y, y_pred)\n",
    "            accuracy_dict[accuracy] = (model, model_name, accuracy)\n",
    "        \n",
    "        \n",
    "        # best_model = list(models.values())[accuracy_list.index(max(accuracy_list))]\n",
    "        # best_model = max(list(accuracy_dict.values()))\n",
    "        best_model = accuracy_dict[max(accuracy_dict)][0]\n",
    "        \n",
    "        model_path= Path(os.path.join(self.config.root_dir,\"model.pkl\"))\n",
    "\n",
    "        save_object(path = model_path,obj =best_model)\n",
    "        logger.info(f\"Model Name: {accuracy_dict[max(accuracy_dict)][1]} has been saved successfully with accuracy: {accuracy_dict[max(accuracy_dict)][2]}\")\n",
    "\n",
    "        logger.info(\"Model Training Complete\")"
   ]
  },
  {
   "cell_type": "code",
   "execution_count": 7,
   "metadata": {},
   "outputs": [
    {
     "name": "stdout",
     "output_type": "stream",
     "text": [
      "[2023-12-30 13:22:46,773: INFO: common: yaml file config\\config.yaml loaded successfully]\n",
      "[2023-12-30 13:22:46,775: INFO: common: yaml file params.yaml loaded successfully]\n",
      "[2023-12-30 13:22:46,777: INFO: common: created directory at: artifacts]\n",
      "[2023-12-30 13:22:46,778: INFO: common: created directory at: artifacts/model_trainer]\n",
      "[2023-12-30 13:22:46,781: INFO: 2966315374: Data has been fetched successfully]\n",
      "[2023-12-30 13:22:46,784: INFO: 2966315374: Data has been scaled successfully]\n",
      "[2023-12-30 13:22:46,913: INFO: 2966315374: Model Random Forest has been trained successfully]\n",
      "[2023-12-30 13:22:46,929: INFO: 2966315374: Model Decision Tree has been trained successfully]\n",
      "[2023-12-30 13:22:47,004: INFO: 2966315374: Model Gradient Boosting has been trained successfully]\n",
      "[2023-12-30 13:22:47,004: INFO: 2966315374: Model K-Neighbors Regressor has been trained successfully]\n",
      "[2023-12-30 13:22:48,431: INFO: 2966315374: Model CatBoosting Regressor has been trained successfully]\n",
      "[2023-12-30 13:22:48,487: INFO: 2966315374: Model AdaBoost Regressor has been trained successfully]\n",
      "[2023-12-30 13:22:48,487: INFO: 2966315374: Model Name: Decision Tree has been saved successfully with accuracy: 0.9347581552305961]\n",
      "[2023-12-30 13:22:48,502: INFO: 2966315374: Model Training Complete]\n"
     ]
    }
   ],
   "source": [
    "try:\n",
    "    config = ConfigurationManager()\n",
    "    model_trainer_config = config.get_model_trainer_config()\n",
    "    model_trainer = ModelTrainer(config= model_trainer_config)\n",
    "    model_trainer.initiate_model_training()\n",
    "\n",
    "except Exception as e:\n",
    "    raise e"
   ]
  },
  {
   "cell_type": "code",
   "execution_count": null,
   "metadata": {},
   "outputs": [],
   "source": []
  }
 ],
 "metadata": {
  "kernelspec": {
   "display_name": "titanic",
   "language": "python",
   "name": "python3"
  },
  "language_info": {
   "codemirror_mode": {
    "name": "ipython",
    "version": 3
   },
   "file_extension": ".py",
   "mimetype": "text/x-python",
   "name": "python",
   "nbconvert_exporter": "python",
   "pygments_lexer": "ipython3",
   "version": "3.9.0"
  }
 },
 "nbformat": 4,
 "nbformat_minor": 2
}
